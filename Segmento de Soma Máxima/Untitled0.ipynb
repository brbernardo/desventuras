{
  "nbformat": 4,
  "nbformat_minor": 0,
  "metadata": {
    "colab": {
      "name": "Untitled0.ipynb",
      "provenance": []
    },
    "kernelspec": {
      "name": "python3",
      "display_name": "Python 3"
    }
  },
  "cells": [
    {
      "cell_type": "code",
      "metadata": {
        "id": "jKMfysU9fEBP",
        "colab_type": "code",
        "colab": {
          "base_uri": "https://localhost:8080/",
          "height": 34
        },
        "outputId": "706682c8-bc30-42eb-ea93-836a78bd930f",
        "tags": []
      },
      "source": [
        "import math\n",
        "\n",
        "def SegmentoSomaMaxima(A, low, mid, high):\n",
        "    leftSum = -math.inf\n",
        "    _sum = 0\n",
        "    maxLeft = 0\n",
        "    for i in range(mid, low, -1):\n",
        "        _sum = _sum + A[i]\n",
        "        if(_sum > leftSum):\n",
        "            leftSum = _sum\n",
        "            maxLeft = i\n",
        "\n",
        "    rightSum = -math.inf\n",
        "    _sum = 0\n",
        "    maxRight = 0\n",
        "    for i in range(mid + 1, high):\n",
        "        _sum = _sum + A[i]\n",
        "        if(_sum > rightSum):\n",
        "            rightSum = _sum\n",
        "            maxRight = i\n",
        "    return maxLeft, maxRight, (leftSum + rightSum)\n",
        "\n",
        "def findMaxSubarray(A, low, high):\n",
        "    if high == low:\n",
        "        return low, high, A[low]\n",
        "    else:\n",
        "        mid = int((low + high) / 2)\n",
        "\n",
        "        leftLow, leftHigh, leftSum = findMaxSubarray(A, low, mid)\n",
        "        rightLow, rightHigh, rightSum = findMaxSubarray(A, mid + 1, high)\n",
        "        crossLow, crossHigh, crossSum = SegmentoSomaMaxima(A, low, mid, high)\n",
        "        \n",
        "        if((leftSum >= rightSum) and (leftSum >= crossSum)):\n",
        "            return leftLow, leftHigh, leftSum\n",
        "        elif((rightSum >= leftSum) and (rightSum >= crossSum)):\n",
        "            return rightLow, rightHigh, rightSum\n",
        "        else:\n",
        "            return crossLow, crossHigh, crossSum\n",
        "        \n",
        "if __name__== \"__main__\":\n",
        "    A = [-16, 20, -10, 12, 27, -6, -4, 8]\n",
        "    print(findMaxSubarray(A, 0, len(A) - 1))"
      ],
      "execution_count": 1,
      "outputs": [
        {
          "output_type": "stream",
          "name": "stdout",
          "text": "(1, 4, 49)\n"
        }
      ]
    },
    {
      "cell_type": "code",
      "execution_count": null,
      "metadata": {},
      "outputs": [],
      "source": []
    }
  ]
}