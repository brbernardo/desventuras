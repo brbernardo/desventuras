{
  "nbformat": 4,
  "nbformat_minor": 0,
  "metadata": {
    "colab": {
      "name": "Untitled0.ipynb",
      "provenance": []
    },
    "kernelspec": {
      "name": "python3",
      "display_name": "Python 3"
    }
  },
  "cells": [
    {
      "source": [
        "# Problema do Segmento de Soma Máxima \n",
        "---\n",
        "\n",
        "\n",
        "Um segmento de um vetor `A[0..n − 1]` é qualquer subvetor da forma `A[i..k]`, com 0 ≤ i ≤ k < n. A soma de um segmento `A[i..k]` é o número `A[i]+A[i+1]+· · ·+A[k]`. E a altura de um vetor `A[0..n−1]` é o valor da soma de um segmento de soma máxima.\n",
        "\n",
        "Aplique o paradigma Divisão e Conquista para obter, e implementar, um algoritmo que determina a altura de um vetor, ou seja, um segmento de soma máxima. \n",
        "\n",
        "Para testar sua implementação, crie instâncias de entrada diversas que considere uma quantidade razoável de situações possíveis.\n",
        "\n",
        "O programa deve receber como entrada um vetor contendo números inteiros, e devolver como saída os índices inicial e \u001cnal da altura (segmento de soma máxima), assim como o valor da soma. Por exemplo, a entrada `−16 20 −10 12 27 −6 −4 8` deve produzir como saída `1 4 49`.\n",
        "\n",
        "\n",
        "---\n"
      ],
      "cell_type": "markdown",
      "metadata": {}
    },
    {
      "source": [
        "## Determinando a soma máxima de um seg. de A[p ..d] atravez de algoritimo.\n",
        "\n",
        "```\n",
        "SEGMAX-DC (A, p, d ) \n",
        "    se p = d então devolva max(0,A[p]) \n",
        "    q ← ⌊ ( p + d ) / 2 ⌋ \n",
        "    maxesq ← SEGMAX-DC (A, p, q ) \n",
        "    maxdir ← SEGMAX-DC (A, q + 1, d ) \n",
        "    max2esq ← soma ← A[q] \n",
        "    para i ← q − 1 decrescendo até p faça \n",
        "        soma ← soma + A[i] \n",
        "        max2esq ← max(max2esq, soma ) \n",
        "    max2dir ← soma ← A[q + 1] \n",
        "    para f ← q + 2 até d faça \n",
        "        soma ← soma + A[f] 1\n",
        "        max2dir ← max(max2dir , soma ) \n",
        "    maxcruz ← max2esq + max2dir \n",
        "    devolva max(maxesq, maxcruz , maxdir )\n",
        "```\n",
        "\n"
      ],
      "cell_type": "markdown",
      "metadata": {}
    },
    {
      "cell_type": "code",
      "execution_count": null,
      "metadata": {},
      "outputs": [],
      "source": [
        "import math\n",
        "\n",
        "def SegmentoSomaMaxima(A, low, mid, high):\n",
        "    leftSum = -math.inf\n",
        "    _sum = 0\n",
        "    maxLeft = 0\n",
        "    for i in range(mid, low, -1):\n",
        "        _sum = _sum + A[i]\n",
        "        if(_sum > leftSum):\n",
        "            leftSum = _sum\n",
        "            maxLeft = i\n",
        "\n",
        "    rightSum = -math.inf\n",
        "    _sum = 0\n",
        "    maxRight = 0\n",
        "    for i in range(mid + 1, high):\n",
        "        _sum = _sum + A[i]\n",
        "        if(_sum > rightSum):\n",
        "            rightSum = _sum\n",
        "            maxRight = i\n",
        "    return maxLeft, maxRight, (leftSum + rightSum)\n",
        "\n",
        "def Subarray(A, low, high):\n",
        "    if high == low:\n",
        "        return low, high, A[low]\n",
        "    else:\n",
        "        mid = int((low + high) / 2)\n",
        "\n",
        "        leftLow, leftHigh, leftSum = Subarray(A, low, mid)\n",
        "        rightLow, rightHigh, rightSum = Subarray(A, mid + 1, high)\n",
        "        crossLow, crossHigh, crossSum = SegmentoSomaMaxima(A, low, mid, high)\n",
        "        \n",
        "        if((leftSum >= rightSum) and (leftSum >= crossSum)):\n",
        "            return leftLow, leftHigh, leftSum\n",
        "        elif((rightSum >= leftSum) and (rightSum >= crossSum)):\n",
        "            return rightLow, rightHigh, rightSum\n",
        "        else:\n",
        "            return crossLow, crossHigh, crossSum\n",
        "        \n",
        "if __name__== \"__main__\":\n",
        "    A = [-16, 20, -10, 12, 27, -6, -4, 8]\n",
        "    print(Subarray(A, 0, len(A) - 1))"
      ]
    }
  ]
}