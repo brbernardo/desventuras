{
 "metadata": {
  "language_info": {
   "codemirror_mode": {
    "name": "ipython",
    "version": 3
   },
   "file_extension": ".py",
   "mimetype": "text/x-python",
   "name": "python",
   "nbconvert_exporter": "python",
   "pygments_lexer": "ipython3",
   "version": "3.8.5-final"
  },
  "orig_nbformat": 2,
  "kernelspec": {
   "name": "python_defaultSpec_1600201307771",
   "display_name": "Python 3.8.5 64-bit"
  }
 },
 "nbformat": 4,
 "nbformat_minor": 2,
 "cells": [
  {
   "source": [
    "# Estruturas de Dados e Análise de Algoritmos\n",
    "## Lista de exercícios\n",
    "---"
   ],
   "cell_type": "markdown",
   "metadata": {}
  },
  {
   "source": [
    "Sabendo que todo algoritmo recursivo tem um equivalente iterativo, determine uma versão nãorecursiva (iterativa) do algoritmo de Busca Binária."
   ],
   "cell_type": "markdown",
   "metadata": {}
  },
  {
   "cell_type": "code",
   "execution_count": null,
   "metadata": {},
   "outputs": [],
   "source": [
    "at work"
   ]
  },
  {
   "source": [
    "Sabendo que todo algoritmo recursivo tem um equivalente iterativo, determine uma versão nãorecursiva (iterativa) do algoritmo Merge Sort."
   ],
   "cell_type": "markdown",
   "metadata": {}
  },
  {
   "cell_type": "code",
   "execution_count": null,
   "metadata": {},
   "outputs": [],
   "source": [
    "at work"
   ]
  },
  {
   "source": [
    "Escreva um algoritmo recursivo que determine a soma dos valores de um vetor v[0..n − 1]."
   ],
   "cell_type": "markdown",
   "metadata": {}
  },
  {
   "cell_type": "code",
   "execution_count": null,
   "metadata": {},
   "outputs": [],
   "source": [
    "at work"
   ]
  },
  {
   "source": [
    "Escreva um algoritmo recursivo que inverte os valores de um vetor v[0..n − 1]."
   ],
   "cell_type": "markdown",
   "metadata": {}
  },
  {
   "cell_type": "code",
   "execution_count": null,
   "metadata": {},
   "outputs": [],
   "source": [
    "at work"
   ]
  },
  {
   "source": [
    "Desenvolva um algoritmo de divisão e conquista, que divide o problema em dois subproblemas de\n",
    "tamanho aproximadamente n/2, para encontrar o máximo em um vetor v[0..n − 1]."
   ],
   "cell_type": "markdown",
   "metadata": {}
  },
  {
   "cell_type": "code",
   "execution_count": null,
   "metadata": {},
   "outputs": [],
   "source": [
    "at work"
   ]
  }
 ]
}